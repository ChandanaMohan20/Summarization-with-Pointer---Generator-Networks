{
 "cells": [
  {
   "cell_type": "code",
   "execution_count": 3,
   "id": "9c512cb1",
   "metadata": {},
   "outputs": [],
   "source": [
    "import pandas as pd"
   ]
  },
  {
   "cell_type": "code",
   "execution_count": 4,
   "id": "7d72fb7d",
   "metadata": {
    "scrolled": true
   },
   "outputs": [
    {
     "name": "stderr",
     "output_type": "stream",
     "text": [
      "\n",
      "[notice] A new release of pip is available: 23.1.2 -> 23.2.1\n",
      "[notice] To update, run: python.exe -m pip install --upgrade pip\n"
     ]
    },
    {
     "name": "stdout",
     "output_type": "stream",
     "text": [
      "Requirement already satisfied: datasets in d:\\anaconda\\lib\\site-packages (2.14.4)\n",
      "Requirement already satisfied: numpy>=1.17 in c:\\users\\chandana mohan\\appdata\\roaming\\python\\python311\\site-packages (from datasets) (1.24.3)\n",
      "Requirement already satisfied: pyarrow>=8.0.0 in c:\\users\\chandana mohan\\appdata\\roaming\\python\\python311\\site-packages (from datasets) (12.0.0)\n",
      "Requirement already satisfied: dill<0.3.8,>=0.3.0 in d:\\anaconda\\lib\\site-packages (from datasets) (0.3.7)\n",
      "Requirement already satisfied: pandas in c:\\users\\chandana mohan\\appdata\\roaming\\python\\python311\\site-packages (from datasets) (2.0.1)\n",
      "Requirement already satisfied: requests>=2.19.0 in c:\\users\\chandana mohan\\appdata\\roaming\\python\\python311\\site-packages (from datasets) (2.30.0)\n",
      "Requirement already satisfied: tqdm>=4.62.1 in c:\\users\\chandana mohan\\appdata\\roaming\\python\\python311\\site-packages (from datasets) (4.65.0)\n",
      "Requirement already satisfied: xxhash in d:\\anaconda\\lib\\site-packages (from datasets) (3.3.0)\n",
      "Requirement already satisfied: multiprocess in d:\\anaconda\\lib\\site-packages (from datasets) (0.70.15)\n",
      "Requirement already satisfied: fsspec[http]>=2021.11.1 in d:\\anaconda\\lib\\site-packages (from datasets) (2023.3.0)\n",
      "Requirement already satisfied: aiohttp in c:\\users\\chandana mohan\\appdata\\roaming\\python\\python311\\site-packages (from datasets) (3.8.4)\n",
      "Requirement already satisfied: huggingface-hub<1.0.0,>=0.14.0 in d:\\anaconda\\lib\\site-packages (from datasets) (0.16.4)\n",
      "Requirement already satisfied: packaging in c:\\users\\chandana mohan\\appdata\\roaming\\python\\python311\\site-packages (from datasets) (23.1)\n",
      "Requirement already satisfied: pyyaml>=5.1 in c:\\users\\chandana mohan\\appdata\\roaming\\python\\python311\\site-packages (from datasets) (6.0)\n",
      "Requirement already satisfied: attrs>=17.3.0 in c:\\users\\chandana mohan\\appdata\\roaming\\python\\python311\\site-packages (from aiohttp->datasets) (23.1.0)\n",
      "Requirement already satisfied: charset-normalizer<4.0,>=2.0 in c:\\users\\chandana mohan\\appdata\\roaming\\python\\python311\\site-packages (from aiohttp->datasets) (3.1.0)\n",
      "Requirement already satisfied: multidict<7.0,>=4.5 in c:\\users\\chandana mohan\\appdata\\roaming\\python\\python311\\site-packages (from aiohttp->datasets) (6.0.4)\n",
      "Requirement already satisfied: async-timeout<5.0,>=4.0.0a3 in c:\\users\\chandana mohan\\appdata\\roaming\\python\\python311\\site-packages (from aiohttp->datasets) (4.0.2)\n",
      "Requirement already satisfied: yarl<2.0,>=1.0 in c:\\users\\chandana mohan\\appdata\\roaming\\python\\python311\\site-packages (from aiohttp->datasets) (1.9.2)\n",
      "Requirement already satisfied: frozenlist>=1.1.1 in c:\\users\\chandana mohan\\appdata\\roaming\\python\\python311\\site-packages (from aiohttp->datasets) (1.3.3)\n",
      "Requirement already satisfied: aiosignal>=1.1.2 in c:\\users\\chandana mohan\\appdata\\roaming\\python\\python311\\site-packages (from aiohttp->datasets) (1.3.1)\n",
      "Requirement already satisfied: filelock in d:\\anaconda\\lib\\site-packages (from huggingface-hub<1.0.0,>=0.14.0->datasets) (3.9.0)\n",
      "Requirement already satisfied: typing-extensions>=3.7.4.3 in c:\\users\\chandana mohan\\appdata\\roaming\\python\\python311\\site-packages (from huggingface-hub<1.0.0,>=0.14.0->datasets) (4.5.0)\n",
      "Requirement already satisfied: idna<4,>=2.5 in c:\\users\\chandana mohan\\appdata\\roaming\\python\\python311\\site-packages (from requests>=2.19.0->datasets) (3.4)\n",
      "Requirement already satisfied: urllib3<3,>=1.21.1 in d:\\anaconda\\lib\\site-packages (from requests>=2.19.0->datasets) (1.26.16)\n",
      "Requirement already satisfied: certifi>=2017.4.17 in c:\\users\\chandana mohan\\appdata\\roaming\\python\\python311\\site-packages (from requests>=2.19.0->datasets) (2023.5.7)\n",
      "Requirement already satisfied: colorama in c:\\users\\chandana mohan\\appdata\\roaming\\python\\python311\\site-packages (from tqdm>=4.62.1->datasets) (0.4.6)\n",
      "Requirement already satisfied: python-dateutil>=2.8.2 in c:\\users\\chandana mohan\\appdata\\roaming\\python\\python311\\site-packages (from pandas->datasets) (2.8.2)\n",
      "Requirement already satisfied: pytz>=2020.1 in c:\\users\\chandana mohan\\appdata\\roaming\\python\\python311\\site-packages (from pandas->datasets) (2023.3)\n",
      "Requirement already satisfied: tzdata>=2022.1 in c:\\users\\chandana mohan\\appdata\\roaming\\python\\python311\\site-packages (from pandas->datasets) (2023.3)\n",
      "Requirement already satisfied: six>=1.5 in c:\\users\\chandana mohan\\appdata\\roaming\\python\\python311\\site-packages (from python-dateutil>=2.8.2->pandas->datasets) (1.16.0)\n"
     ]
    }
   ],
   "source": [
    "!pip install datasets"
   ]
  },
  {
   "cell_type": "code",
   "execution_count": 5,
   "id": "185fce19",
   "metadata": {},
   "outputs": [],
   "source": [
    "from datasets import load_dataset"
   ]
  },
  {
   "cell_type": "code",
   "execution_count": 6,
   "id": "ee240ad1",
   "metadata": {},
   "outputs": [],
   "source": [
    "from datasets.formatting.formatting import version\n",
    "reviews = load_dataset(\"cnn_dailymail\",version=\"3.0.0\")"
   ]
  },
  {
   "cell_type": "code",
   "execution_count": 7,
   "id": "bb986bbc",
   "metadata": {},
   "outputs": [],
   "source": [
    "pre = pd.DataFrame({\n",
    "    \"article\": reviews[\"train\"][\"article\"],\n",
    "    \"summary\": reviews[\"train\"][\"highlights\"]\n",
    "})"
   ]
  },
  {
   "cell_type": "code",
   "execution_count": 8,
   "id": "a5db4007",
   "metadata": {},
   "outputs": [
    {
     "data": {
      "text/html": [
       "<div>\n",
       "<style scoped>\n",
       "    .dataframe tbody tr th:only-of-type {\n",
       "        vertical-align: middle;\n",
       "    }\n",
       "\n",
       "    .dataframe tbody tr th {\n",
       "        vertical-align: top;\n",
       "    }\n",
       "\n",
       "    .dataframe thead th {\n",
       "        text-align: right;\n",
       "    }\n",
       "</style>\n",
       "<table border=\"1\" class=\"dataframe\">\n",
       "  <thead>\n",
       "    <tr style=\"text-align: right;\">\n",
       "      <th></th>\n",
       "      <th>article</th>\n",
       "      <th>summary</th>\n",
       "    </tr>\n",
       "  </thead>\n",
       "  <tbody>\n",
       "    <tr>\n",
       "      <th>0</th>\n",
       "      <td>LONDON, England (Reuters) -- Harry Potter star...</td>\n",
       "      <td>Harry Potter star Daniel Radcliffe gets £20M f...</td>\n",
       "    </tr>\n",
       "    <tr>\n",
       "      <th>1</th>\n",
       "      <td>Editor's note: In our Behind the Scenes series...</td>\n",
       "      <td>Mentally ill inmates in Miami are housed on th...</td>\n",
       "    </tr>\n",
       "  </tbody>\n",
       "</table>\n",
       "</div>"
      ],
      "text/plain": [
       "                                             article   \n",
       "0  LONDON, England (Reuters) -- Harry Potter star...  \\\n",
       "1  Editor's note: In our Behind the Scenes series...   \n",
       "\n",
       "                                             summary  \n",
       "0  Harry Potter star Daniel Radcliffe gets £20M f...  \n",
       "1  Mentally ill inmates in Miami are housed on th...  "
      ]
     },
     "execution_count": 8,
     "metadata": {},
     "output_type": "execute_result"
    }
   ],
   "source": [
    "pre.head(2)"
   ]
  },
  {
   "cell_type": "code",
   "execution_count": 9,
   "id": "87434fd1",
   "metadata": {},
   "outputs": [],
   "source": [
    "import re\n",
    "def clean(text):\n",
    "  text = str(text)\n",
    "  text = text.lower()\n",
    "  text = re.sub(r'\\'s',r'\\tis',text)\n",
    "  text = re.sub(r'\\'ll',r'\\twill',text)\n",
    "  text = re.sub(r'\\'m',r'\\tam',text)\n",
    "  text = re.sub(r'\\'re',r'\\tare',text)\n",
    "  text = re.sub(r'\\'d',r'\\twould',text)\n",
    "  text = re.sub(r'n\\'t',r'\\tnot',text)\n",
    "  text = re.sub('[^a-zA-Z0-9]',' ',text)\n",
    "  text = re.sub(r\"[-()\\\"#/@;:<>{}`+=~|.!?,]\", \"\", text)\n",
    "  text = re.sub(r'\\n',r'\\t ',text)\n",
    "  return text"
   ]
  },
  {
   "cell_type": "code",
   "execution_count": null,
   "id": "72a26698",
   "metadata": {},
   "outputs": [],
   "source": []
  },
  {
   "cell_type": "code",
   "execution_count": 10,
   "id": "1c357c05",
   "metadata": {
    "scrolled": true
   },
   "outputs": [
    {
     "name": "stdout",
     "output_type": "stream",
     "text": [
      "Requirement already satisfied: pip in c:\\users\\chandana mohan\\appdata\\roaming\\python\\python311\\site-packages (23.1.2)\n",
      "Collecting pip\n",
      "  Using cached pip-23.2.1-py3-none-any.whl (2.1 MB)\n",
      "Requirement already satisfied: setuptools in d:\\anaconda\\lib\\site-packages (68.1.2)\n",
      "Requirement already satisfied: wheel in d:\\anaconda\\lib\\site-packages (0.41.2)\n"
     ]
    },
    {
     "name": "stderr",
     "output_type": "stream",
     "text": [
      "ERROR: To modify pip, please run the following command:\n",
      "D:\\anaconda\\python.exe -m pip install -U pip setuptools wheel\n",
      "\n",
      "[notice] A new release of pip is available: 23.1.2 -> 23.2.1\n",
      "[notice] To update, run: python.exe -m pip install --upgrade pip\n"
     ]
    }
   ],
   "source": [
    "!pip install -U pip setuptools wheel"
   ]
  },
  {
   "cell_type": "code",
   "execution_count": 11,
   "id": "e3b4bceb",
   "metadata": {},
   "outputs": [
    {
     "name": "stdout",
     "output_type": "stream",
     "text": [
      "Requirement already satisfied: spacy in d:\\anaconda\\lib\\site-packages (3.6.1)\n",
      "Requirement already satisfied: spacy-legacy<3.1.0,>=3.0.11 in d:\\anaconda\\lib\\site-packages (from spacy) (3.0.12)\n",
      "Requirement already satisfied: spacy-loggers<2.0.0,>=1.0.0 in d:\\anaconda\\lib\\site-packages (from spacy) (1.0.4)\n",
      "Requirement already satisfied: murmurhash<1.1.0,>=0.28.0 in d:\\anaconda\\lib\\site-packages (from spacy) (1.0.9)\n",
      "Requirement already satisfied: cymem<2.1.0,>=2.0.2 in d:\\anaconda\\lib\\site-packages (from spacy) (2.0.7)\n",
      "Requirement already satisfied: preshed<3.1.0,>=3.0.2 in d:\\anaconda\\lib\\site-packages (from spacy) (3.0.8)\n",
      "Requirement already satisfied: thinc<8.2.0,>=8.1.8 in d:\\anaconda\\lib\\site-packages (from spacy) (8.1.12)\n",
      "Requirement already satisfied: wasabi<1.2.0,>=0.9.1 in d:\\anaconda\\lib\\site-packages (from spacy) (1.1.2)\n",
      "Requirement already satisfied: srsly<3.0.0,>=2.4.3 in d:\\anaconda\\lib\\site-packages (from spacy) (2.4.7)\n",
      "Requirement already satisfied: catalogue<2.1.0,>=2.0.6 in d:\\anaconda\\lib\\site-packages (from spacy) (2.0.9)\n",
      "Requirement already satisfied: typer<0.10.0,>=0.3.0 in d:\\anaconda\\lib\\site-packages (from spacy) (0.9.0)\n",
      "Requirement already satisfied: pathy>=0.10.0 in d:\\anaconda\\lib\\site-packages (from spacy) (0.10.2)\n",
      "Requirement already satisfied: smart-open<7.0.0,>=5.2.1 in d:\\anaconda\\lib\\site-packages (from spacy) (5.2.1)\n",
      "Requirement already satisfied: tqdm<5.0.0,>=4.38.0 in c:\\users\\chandana mohan\\appdata\\roaming\\python\\python311\\site-packages (from spacy) (4.65.0)\n",
      "Requirement already satisfied: numpy>=1.15.0 in c:\\users\\chandana mohan\\appdata\\roaming\\python\\python311\\site-packages (from spacy) (1.24.3)\n",
      "Requirement already satisfied: requests<3.0.0,>=2.13.0 in c:\\users\\chandana mohan\\appdata\\roaming\\python\\python311\\site-packages (from spacy) (2.30.0)\n",
      "Requirement already satisfied: pydantic!=1.8,!=1.8.1,<3.0.0,>=1.7.4 in c:\\users\\chandana mohan\\appdata\\roaming\\python\\python311\\site-packages (from spacy) (1.10.7)\n",
      "Requirement already satisfied: jinja2 in c:\\users\\chandana mohan\\appdata\\roaming\\python\\python311\\site-packages (from spacy) (3.1.2)\n",
      "Requirement already satisfied: setuptools in d:\\anaconda\\lib\\site-packages (from spacy) (68.1.2)\n",
      "Requirement already satisfied: packaging>=20.0 in c:\\users\\chandana mohan\\appdata\\roaming\\python\\python311\\site-packages (from spacy) (23.1)\n",
      "Requirement already satisfied: langcodes<4.0.0,>=3.2.0 in d:\\anaconda\\lib\\site-packages (from spacy) (3.3.0)\n",
      "Requirement already satisfied: typing-extensions>=4.2.0 in c:\\users\\chandana mohan\\appdata\\roaming\\python\\python311\\site-packages (from pydantic!=1.8,!=1.8.1,<3.0.0,>=1.7.4->spacy) (4.5.0)\n",
      "Requirement already satisfied: charset-normalizer<4,>=2 in c:\\users\\chandana mohan\\appdata\\roaming\\python\\python311\\site-packages (from requests<3.0.0,>=2.13.0->spacy) (3.1.0)\n",
      "Requirement already satisfied: idna<4,>=2.5 in c:\\users\\chandana mohan\\appdata\\roaming\\python\\python311\\site-packages (from requests<3.0.0,>=2.13.0->spacy) (3.4)\n",
      "Requirement already satisfied: urllib3<3,>=1.21.1 in d:\\anaconda\\lib\\site-packages (from requests<3.0.0,>=2.13.0->spacy) (1.26.16)\n",
      "Requirement already satisfied: certifi>=2017.4.17 in c:\\users\\chandana mohan\\appdata\\roaming\\python\\python311\\site-packages (from requests<3.0.0,>=2.13.0->spacy) (2023.5.7)\n",
      "Requirement already satisfied: blis<0.8.0,>=0.7.8 in d:\\anaconda\\lib\\site-packages (from thinc<8.2.0,>=8.1.8->spacy) (0.7.10)\n",
      "Requirement already satisfied: confection<1.0.0,>=0.0.1 in d:\\anaconda\\lib\\site-packages (from thinc<8.2.0,>=8.1.8->spacy) (0.1.1)\n",
      "Requirement already satisfied: colorama in c:\\users\\chandana mohan\\appdata\\roaming\\python\\python311\\site-packages (from tqdm<5.0.0,>=4.38.0->spacy) (0.4.6)\n",
      "Requirement already satisfied: click<9.0.0,>=7.1.1 in c:\\users\\chandana mohan\\appdata\\roaming\\python\\python311\\site-packages (from typer<0.10.0,>=0.3.0->spacy) (8.1.3)\n",
      "Requirement already satisfied: MarkupSafe>=2.0 in c:\\users\\chandana mohan\\appdata\\roaming\\python\\python311\\site-packages (from jinja2->spacy) (2.1.2)\n"
     ]
    },
    {
     "name": "stderr",
     "output_type": "stream",
     "text": [
      "\n",
      "[notice] A new release of pip is available: 23.1.2 -> 23.2.1\n",
      "[notice] To update, run: python.exe -m pip install --upgrade pip\n"
     ]
    },
    {
     "name": "stdout",
     "output_type": "stream",
     "text": [
      "Collecting en-core-web-sm==3.6.0\n",
      "  Downloading https://github.com/explosion/spacy-models/releases/download/en_core_web_sm-3.6.0/en_core_web_sm-3.6.0-py3-none-any.whl (12.8 MB)\n",
      "                                              0.0/12.8 MB ? eta -:--:--\n",
      "                                              0.1/12.8 MB 1.1 MB/s eta 0:00:12\n",
      "                                              0.2/12.8 MB 2.1 MB/s eta 0:00:07\n",
      "     -                                        0.3/12.8 MB 2.3 MB/s eta 0:00:06\n",
      "     -                                        0.4/12.8 MB 2.2 MB/s eta 0:00:06\n",
      "     -                                        0.5/12.8 MB 2.2 MB/s eta 0:00:06\n",
      "     -                                        0.6/12.8 MB 2.0 MB/s eta 0:00:07\n",
      "     -                                        0.6/12.8 MB 2.0 MB/s eta 0:00:07\n",
      "     -                                        0.6/12.8 MB 2.0 MB/s eta 0:00:07\n",
      "     -                                        0.6/12.8 MB 2.0 MB/s eta 0:00:07\n",
      "     -                                        0.6/12.8 MB 2.0 MB/s eta 0:00:07\n",
      "     -                                        0.6/12.8 MB 2.0 MB/s eta 0:00:07\n",
      "     -                                        0.6/12.8 MB 2.0 MB/s eta 0:00:07\n",
      "     -                                        0.6/12.8 MB 2.0 MB/s eta 0:00:07\n",
      "     -                                        0.6/12.8 MB 2.0 MB/s eta 0:00:07\n",
      "     --                                      0.7/12.8 MB 953.9 kB/s eta 0:00:13\n",
      "     --                                       0.8/12.8 MB 1.0 MB/s eta 0:00:12\n",
      "     --                                       0.9/12.8 MB 1.2 MB/s eta 0:00:11\n",
      "     ---                                      1.0/12.8 MB 1.2 MB/s eta 0:00:11\n",
      "     ---                                      1.1/12.8 MB 1.3 MB/s eta 0:00:10\n",
      "     ----                                     1.4/12.8 MB 1.5 MB/s eta 0:00:08\n",
      "     ----                                     1.4/12.8 MB 1.5 MB/s eta 0:00:08\n",
      "     -----                                    1.6/12.8 MB 1.6 MB/s eta 0:00:08\n",
      "     -----                                    1.7/12.8 MB 1.6 MB/s eta 0:00:07\n",
      "     -----                                    1.9/12.8 MB 1.7 MB/s eta 0:00:07\n",
      "     ------                                   2.2/12.8 MB 1.9 MB/s eta 0:00:06\n",
      "     -------                                  2.4/12.8 MB 2.0 MB/s eta 0:00:06\n",
      "     --------                                 2.6/12.8 MB 2.1 MB/s eta 0:00:05\n",
      "     --------                                 2.7/12.8 MB 2.1 MB/s eta 0:00:05\n",
      "     --------                                 2.9/12.8 MB 2.1 MB/s eta 0:00:05\n",
      "     --------                                 2.9/12.8 MB 2.0 MB/s eta 0:00:05\n",
      "     ----------                               3.2/12.8 MB 2.2 MB/s eta 0:00:05\n",
      "     ----------                               3.4/12.8 MB 2.2 MB/s eta 0:00:05\n",
      "     -----------                              3.7/12.8 MB 2.4 MB/s eta 0:00:04\n",
      "     ------------                             4.0/12.8 MB 2.5 MB/s eta 0:00:04\n",
      "     -------------                            4.2/12.8 MB 2.5 MB/s eta 0:00:04\n",
      "     --------------                           4.5/12.8 MB 2.7 MB/s eta 0:00:04\n",
      "     --------------                           4.8/12.8 MB 2.7 MB/s eta 0:00:03\n",
      "     ---------------                          5.0/12.8 MB 2.8 MB/s eta 0:00:03\n",
      "     ----------------                         5.2/12.8 MB 2.8 MB/s eta 0:00:03\n",
      "     -----------------                        5.6/12.8 MB 2.9 MB/s eta 0:00:03\n",
      "     ------------------                       5.9/12.8 MB 3.1 MB/s eta 0:00:03\n",
      "     -------------------                      6.1/12.8 MB 3.1 MB/s eta 0:00:03\n",
      "     --------------------                     6.4/12.8 MB 3.2 MB/s eta 0:00:03\n",
      "     --------------------                     6.7/12.8 MB 3.2 MB/s eta 0:00:02\n",
      "     ---------------------                    6.9/12.8 MB 3.2 MB/s eta 0:00:02\n",
      "     ---------------------                    7.0/12.8 MB 3.3 MB/s eta 0:00:02\n",
      "     ---------------------                    7.0/12.8 MB 3.3 MB/s eta 0:00:02\n",
      "     -----------------------                  7.5/12.8 MB 3.3 MB/s eta 0:00:02\n",
      "     -----------------------                  7.6/12.8 MB 3.3 MB/s eta 0:00:02\n",
      "     ------------------------                 7.9/12.8 MB 3.4 MB/s eta 0:00:02\n",
      "     -------------------------                8.0/12.8 MB 3.3 MB/s eta 0:00:02\n",
      "     -------------------------                8.2/12.8 MB 3.4 MB/s eta 0:00:02\n",
      "     --------------------------               8.6/12.8 MB 3.4 MB/s eta 0:00:02\n",
      "     ---------------------------              8.8/12.8 MB 3.5 MB/s eta 0:00:02\n",
      "     ----------------------------             9.1/12.8 MB 3.5 MB/s eta 0:00:02\n",
      "     -----------------------------            9.3/12.8 MB 3.5 MB/s eta 0:00:01\n",
      "     -----------------------------            9.6/12.8 MB 3.6 MB/s eta 0:00:01\n",
      "     ------------------------------           9.9/12.8 MB 3.6 MB/s eta 0:00:01\n",
      "     -------------------------------          10.0/12.8 MB 3.6 MB/s eta 0:00:01\n",
      "     -------------------------------          10.0/12.8 MB 3.6 MB/s eta 0:00:01\n",
      "     --------------------------------         10.4/12.8 MB 3.6 MB/s eta 0:00:01\n",
      "     --------------------------------         10.4/12.8 MB 3.7 MB/s eta 0:00:01\n",
      "     ---------------------------------        10.6/12.8 MB 3.6 MB/s eta 0:00:01\n",
      "     ---------------------------------        10.7/12.8 MB 3.7 MB/s eta 0:00:01\n",
      "     ---------------------------------        10.8/12.8 MB 3.7 MB/s eta 0:00:01\n",
      "     ----------------------------------       10.9/12.8 MB 4.2 MB/s eta 0:00:01\n",
      "     ----------------------------------       11.0/12.8 MB 4.3 MB/s eta 0:00:01\n",
      "     ----------------------------------       11.2/12.8 MB 4.3 MB/s eta 0:00:01\n",
      "     -----------------------------------      11.3/12.8 MB 4.3 MB/s eta 0:00:01\n",
      "     -----------------------------------      11.5/12.8 MB 4.3 MB/s eta 0:00:01\n",
      "     ------------------------------------     11.7/12.8 MB 4.3 MB/s eta 0:00:01\n",
      "     ------------------------------------     11.8/12.8 MB 4.3 MB/s eta 0:00:01\n",
      "     ------------------------------------     11.8/12.8 MB 4.3 MB/s eta 0:00:01\n",
      "     -------------------------------------    12.1/12.8 MB 4.3 MB/s eta 0:00:01\n",
      "     --------------------------------------   12.2/12.8 MB 4.3 MB/s eta 0:00:01\n",
      "     --------------------------------------   12.4/12.8 MB 4.3 MB/s eta 0:00:01\n",
      "     ---------------------------------------  12.7/12.8 MB 4.3 MB/s eta 0:00:01\n",
      "     ---------------------------------------  12.8/12.8 MB 4.3 MB/s eta 0:00:01\n",
      "     ---------------------------------------- 12.8/12.8 MB 4.2 MB/s eta 0:00:00\n",
      "Requirement already satisfied: spacy<3.7.0,>=3.6.0 in d:\\anaconda\\lib\\site-packages (from en-core-web-sm==3.6.0) (3.6.1)\n",
      "Requirement already satisfied: spacy-legacy<3.1.0,>=3.0.11 in d:\\anaconda\\lib\\site-packages (from spacy<3.7.0,>=3.6.0->en-core-web-sm==3.6.0) (3.0.12)\n",
      "Requirement already satisfied: spacy-loggers<2.0.0,>=1.0.0 in d:\\anaconda\\lib\\site-packages (from spacy<3.7.0,>=3.6.0->en-core-web-sm==3.6.0) (1.0.4)\n",
      "Requirement already satisfied: murmurhash<1.1.0,>=0.28.0 in d:\\anaconda\\lib\\site-packages (from spacy<3.7.0,>=3.6.0->en-core-web-sm==3.6.0) (1.0.9)\n",
      "Requirement already satisfied: cymem<2.1.0,>=2.0.2 in d:\\anaconda\\lib\\site-packages (from spacy<3.7.0,>=3.6.0->en-core-web-sm==3.6.0) (2.0.7)\n",
      "Requirement already satisfied: preshed<3.1.0,>=3.0.2 in d:\\anaconda\\lib\\site-packages (from spacy<3.7.0,>=3.6.0->en-core-web-sm==3.6.0) (3.0.8)\n",
      "Requirement already satisfied: thinc<8.2.0,>=8.1.8 in d:\\anaconda\\lib\\site-packages (from spacy<3.7.0,>=3.6.0->en-core-web-sm==3.6.0) (8.1.12)\n",
      "Requirement already satisfied: wasabi<1.2.0,>=0.9.1 in d:\\anaconda\\lib\\site-packages (from spacy<3.7.0,>=3.6.0->en-core-web-sm==3.6.0) (1.1.2)\n",
      "Requirement already satisfied: srsly<3.0.0,>=2.4.3 in d:\\anaconda\\lib\\site-packages (from spacy<3.7.0,>=3.6.0->en-core-web-sm==3.6.0) (2.4.7)\n",
      "Requirement already satisfied: catalogue<2.1.0,>=2.0.6 in d:\\anaconda\\lib\\site-packages (from spacy<3.7.0,>=3.6.0->en-core-web-sm==3.6.0) (2.0.9)\n",
      "Requirement already satisfied: typer<0.10.0,>=0.3.0 in d:\\anaconda\\lib\\site-packages (from spacy<3.7.0,>=3.6.0->en-core-web-sm==3.6.0) (0.9.0)\n",
      "Requirement already satisfied: pathy>=0.10.0 in d:\\anaconda\\lib\\site-packages (from spacy<3.7.0,>=3.6.0->en-core-web-sm==3.6.0) (0.10.2)\n",
      "Requirement already satisfied: smart-open<7.0.0,>=5.2.1 in d:\\anaconda\\lib\\site-packages (from spacy<3.7.0,>=3.6.0->en-core-web-sm==3.6.0) (5.2.1)\n",
      "Requirement already satisfied: tqdm<5.0.0,>=4.38.0 in c:\\users\\chandana mohan\\appdata\\roaming\\python\\python311\\site-packages (from spacy<3.7.0,>=3.6.0->en-core-web-sm==3.6.0) (4.65.0)\n",
      "Requirement already satisfied: numpy>=1.15.0 in c:\\users\\chandana mohan\\appdata\\roaming\\python\\python311\\site-packages (from spacy<3.7.0,>=3.6.0->en-core-web-sm==3.6.0) (1.24.3)\n",
      "Requirement already satisfied: requests<3.0.0,>=2.13.0 in c:\\users\\chandana mohan\\appdata\\roaming\\python\\python311\\site-packages (from spacy<3.7.0,>=3.6.0->en-core-web-sm==3.6.0) (2.30.0)\n",
      "Requirement already satisfied: pydantic!=1.8,!=1.8.1,<3.0.0,>=1.7.4 in c:\\users\\chandana mohan\\appdata\\roaming\\python\\python311\\site-packages (from spacy<3.7.0,>=3.6.0->en-core-web-sm==3.6.0) (1.10.7)\n",
      "Requirement already satisfied: jinja2 in c:\\users\\chandana mohan\\appdata\\roaming\\python\\python311\\site-packages (from spacy<3.7.0,>=3.6.0->en-core-web-sm==3.6.0) (3.1.2)\n",
      "Requirement already satisfied: setuptools in d:\\anaconda\\lib\\site-packages (from spacy<3.7.0,>=3.6.0->en-core-web-sm==3.6.0) (68.1.2)\n",
      "Requirement already satisfied: packaging>=20.0 in c:\\users\\chandana mohan\\appdata\\roaming\\python\\python311\\site-packages (from spacy<3.7.0,>=3.6.0->en-core-web-sm==3.6.0) (23.1)\n",
      "Requirement already satisfied: langcodes<4.0.0,>=3.2.0 in d:\\anaconda\\lib\\site-packages (from spacy<3.7.0,>=3.6.0->en-core-web-sm==3.6.0) (3.3.0)\n",
      "Requirement already satisfied: typing-extensions>=4.2.0 in c:\\users\\chandana mohan\\appdata\\roaming\\python\\python311\\site-packages (from pydantic!=1.8,!=1.8.1,<3.0.0,>=1.7.4->spacy<3.7.0,>=3.6.0->en-core-web-sm==3.6.0) (4.5.0)\n",
      "Requirement already satisfied: charset-normalizer<4,>=2 in c:\\users\\chandana mohan\\appdata\\roaming\\python\\python311\\site-packages (from requests<3.0.0,>=2.13.0->spacy<3.7.0,>=3.6.0->en-core-web-sm==3.6.0) (3.1.0)\n",
      "Requirement already satisfied: idna<4,>=2.5 in c:\\users\\chandana mohan\\appdata\\roaming\\python\\python311\\site-packages (from requests<3.0.0,>=2.13.0->spacy<3.7.0,>=3.6.0->en-core-web-sm==3.6.0) (3.4)\n",
      "Requirement already satisfied: urllib3<3,>=1.21.1 in d:\\anaconda\\lib\\site-packages (from requests<3.0.0,>=2.13.0->spacy<3.7.0,>=3.6.0->en-core-web-sm==3.6.0) (1.26.16)\n",
      "Requirement already satisfied: certifi>=2017.4.17 in c:\\users\\chandana mohan\\appdata\\roaming\\python\\python311\\site-packages (from requests<3.0.0,>=2.13.0->spacy<3.7.0,>=3.6.0->en-core-web-sm==3.6.0) (2023.5.7)\n",
      "Requirement already satisfied: blis<0.8.0,>=0.7.8 in d:\\anaconda\\lib\\site-packages (from thinc<8.2.0,>=8.1.8->spacy<3.7.0,>=3.6.0->en-core-web-sm==3.6.0) (0.7.10)\n",
      "Requirement already satisfied: confection<1.0.0,>=0.0.1 in d:\\anaconda\\lib\\site-packages (from thinc<8.2.0,>=8.1.8->spacy<3.7.0,>=3.6.0->en-core-web-sm==3.6.0) (0.1.1)\n",
      "Requirement already satisfied: colorama in c:\\users\\chandana mohan\\appdata\\roaming\\python\\python311\\site-packages (from tqdm<5.0.0,>=4.38.0->spacy<3.7.0,>=3.6.0->en-core-web-sm==3.6.0) (0.4.6)\n",
      "Requirement already satisfied: click<9.0.0,>=7.1.1 in c:\\users\\chandana mohan\\appdata\\roaming\\python\\python311\\site-packages (from typer<0.10.0,>=0.3.0->spacy<3.7.0,>=3.6.0->en-core-web-sm==3.6.0) (8.1.3)\n",
      "Requirement already satisfied: MarkupSafe>=2.0 in c:\\users\\chandana mohan\\appdata\\roaming\\python\\python311\\site-packages (from jinja2->spacy<3.7.0,>=3.6.0->en-core-web-sm==3.6.0) (2.1.2)\n",
      "\u001b[38;5;2m[+] Download and installation successful\u001b[0m\n",
      "You can now load the package via spacy.load('en_core_web_sm')\n"
     ]
    },
    {
     "name": "stderr",
     "output_type": "stream",
     "text": [
      "\n",
      "[notice] A new release of pip is available: 23.1.2 -> 23.2.1\n",
      "[notice] To update, run: python.exe -m pip install --upgrade pip\n"
     ]
    },
    {
     "name": "stdout",
     "output_type": "stream",
     "text": [
      "Requirement already satisfied: pandas in c:\\users\\chandana mohan\\appdata\\roaming\\python\\python311\\site-packages (2.0.1)\n",
      "Requirement already satisfied: python-dateutil>=2.8.2 in c:\\users\\chandana mohan\\appdata\\roaming\\python\\python311\\site-packages (from pandas) (2.8.2)\n",
      "Requirement already satisfied: pytz>=2020.1 in c:\\users\\chandana mohan\\appdata\\roaming\\python\\python311\\site-packages (from pandas) (2023.3)\n",
      "Requirement already satisfied: tzdata>=2022.1 in c:\\users\\chandana mohan\\appdata\\roaming\\python\\python311\\site-packages (from pandas) (2023.3)\n",
      "Requirement already satisfied: numpy>=1.21.0 in c:\\users\\chandana mohan\\appdata\\roaming\\python\\python311\\site-packages (from pandas) (1.24.3)\n",
      "Requirement already satisfied: six>=1.5 in c:\\users\\chandana mohan\\appdata\\roaming\\python\\python311\\site-packages (from python-dateutil>=2.8.2->pandas) (1.16.0)\n"
     ]
    },
    {
     "name": "stderr",
     "output_type": "stream",
     "text": [
      "\n",
      "[notice] A new release of pip is available: 23.1.2 -> 23.2.1\n",
      "[notice] To update, run: python.exe -m pip install --upgrade pip\n"
     ]
    }
   ],
   "source": [
    "!pip install -U spacy\n",
    "!python -m spacy download en_core_web_sm\n",
    "!pip install pandas"
   ]
  },
  {
   "cell_type": "code",
   "execution_count": 12,
   "id": "69d02b5b",
   "metadata": {},
   "outputs": [
    {
     "name": "stdout",
     "output_type": "stream",
     "text": [
      "Requirement already satisfied: sklearn in d:\\anaconda\\lib\\site-packages (0.0.post7)\n"
     ]
    },
    {
     "name": "stderr",
     "output_type": "stream",
     "text": [
      "\n",
      "[notice] A new release of pip is available: 23.1.2 -> 23.2.1\n",
      "[notice] To update, run: python.exe -m pip install --upgrade pip\n"
     ]
    }
   ],
   "source": [
    "\n",
    "!pip3 install sklearn"
   ]
  },
  {
   "cell_type": "code",
   "execution_count": 13,
   "id": "d5ccaa7a",
   "metadata": {},
   "outputs": [
    {
     "name": "stdout",
     "output_type": "stream",
     "text": [
      "3.6.1\n"
     ]
    }
   ],
   "source": [
    "import spacy\n",
    "print(spacy.__version__)"
   ]
  },
  {
   "cell_type": "code",
   "execution_count": 14,
   "id": "b2e3e0df",
   "metadata": {},
   "outputs": [
    {
     "data": {
      "text/plain": [
       "287113"
      ]
     },
     "execution_count": 14,
     "metadata": {},
     "output_type": "execute_result"
    }
   ],
   "source": [
    "len(pre['article'])"
   ]
  },
  {
   "cell_type": "code",
   "execution_count": 15,
   "id": "6c54e368",
   "metadata": {},
   "outputs": [],
   "source": [
    "#processed_text = clean(pre['article'])\n",
    "#processed_summary = text_strip(pre['summary'])\n",
    "processed_text = list(map(clean,pre['article']))\n",
    "processed_summary = list(map(clean,pre['summary']))"
   ]
  },
  {
   "cell_type": "code",
   "execution_count": 16,
   "id": "432b0e16",
   "metadata": {},
   "outputs": [
    {
     "data": {
      "text/plain": [
       "287113"
      ]
     },
     "execution_count": 16,
     "metadata": {},
     "output_type": "execute_result"
    }
   ],
   "source": [
    "len(processed_text)\n"
   ]
  },
  {
   "cell_type": "code",
   "execution_count": 17,
   "id": "bf036312",
   "metadata": {},
   "outputs": [
    {
     "data": {
      "text/plain": [
       "287113"
      ]
     },
     "execution_count": 17,
     "metadata": {},
     "output_type": "execute_result"
    }
   ],
   "source": [
    "len(processed_summary)"
   ]
  },
  {
   "cell_type": "code",
   "execution_count": 18,
   "id": "88204682",
   "metadata": {},
   "outputs": [],
   "source": [
    "summary = [\"_START_ \" + summary + \" _END_\" for summary in processed_summary]"
   ]
  },
  {
   "cell_type": "code",
   "execution_count": 19,
   "id": "65bfb77f",
   "metadata": {},
   "outputs": [
    {
     "data": {
      "text/plain": [
       "'_START_ harry potter star daniel radcliffe gets  20m fortune as he turns 18 monday   young actor says he has no plans to fritter his cash away   radcliffe is earnings from first five potter films have been held in trust fund   _END_'"
      ]
     },
     "execution_count": 19,
     "metadata": {},
     "output_type": "execute_result"
    }
   ],
   "source": [
    "summary[0]\n"
   ]
  },
  {
   "cell_type": "code",
   "execution_count": 20,
   "id": "a618829d",
   "metadata": {},
   "outputs": [],
   "source": [
    "text = processed_text"
   ]
  },
  {
   "cell_type": "code",
   "execution_count": 21,
   "id": "8af541ee",
   "metadata": {},
   "outputs": [
    {
     "data": {
      "text/plain": [
       "'london  england  reuters     harry potter star daniel radcliffe gains access to a reported  20 million   41 1 million  fortune as he turns 18 on monday  but he insists the money wo not cast a spell on him  daniel radcliffe as harry potter in  harry potter and the order of the phoenix  to the disappointment of gossip columnists around the world  the young actor says he has no plans to fritter his cash away on fast cars  drink and celebrity parties   i do not plan to be one of those people who  as soon as they turn 18  suddenly buy themselves a massive sports car collection or something similar   he told an australian interviewer earlier this month   i do not think i will be particularly extravagant   the things i like buying are things that cost about 10 pounds    books and cds and dvds   at 18  radcliffe will be able to gamble in a casino  buy a drink in a pub or see the horror film  hostel  part ii   currently six places below his number one movie on the uk box office chart  details of how he will mark his landmark birthday are under wraps  his agent and publicist had no comment on his plans   i will definitely have some sort of party   he said in an interview   hopefully none of you will be reading about it   radcliffe is earnings from the first five potter films have been held in a trust fund which he has not been able to touch  despite his growing fame and riches  the actor says he is keeping his feet firmly on the ground   people are always looking to say  kid star goes off the rails    he told reporters last month   but i try very hard not to go that way because it would be too easy for them   his latest outing as the boy wizard in  harry potter and the order of the phoenix  is breaking records on both sides of the atlantic and he will reprise the role in the last two films   watch i reporter give her review of potter is latest     there is life beyond potter  however  the londoner has filmed a tv movie called  my boy jack   about author rudyard kipling and his son  due for release later this year  he will also appear in  december boys   an australian film about four boys who escape an orphanage  earlier this year  he made his stage debut playing a tortured teenager in peter shaffer is  equus   meanwhile  he is braced for even closer media scrutiny now that he is legally an adult   i just think i am going to be more sort of fair game   he told reuters  e mail to a friend   copyright 2007 reuters  all rights reserved this material may not be published  broadcast  rewritten  or redistributed '"
      ]
     },
     "execution_count": 21,
     "metadata": {},
     "output_type": "execute_result"
    }
   ],
   "source": [
    "text[0]"
   ]
  },
  {
   "cell_type": "code",
   "execution_count": 22,
   "id": "12484305",
   "metadata": {},
   "outputs": [],
   "source": [
    "pre['cleaned_text'] = pd.Series(processed_text)\n",
    "pre['cleaned_summary'] = pd.Series(summary)"
   ]
  },
  {
   "cell_type": "code",
   "execution_count": 23,
   "id": "ec378d6e",
   "metadata": {},
   "outputs": [],
   "source": [
    "#batch_size =5000\n",
    "#chunk_len = len(processed_text)//batch_size\n",
    "#text = []\n",
    "#for i in range(0, len(processed_text), 5000):\n",
    " #   text.append(processed_text[i:i+5000])\n",
    "    \n"
   ]
  },
  {
   "cell_type": "code",
   "execution_count": 24,
   "id": "796c612d",
   "metadata": {},
   "outputs": [
    {
     "data": {
      "text/html": [
       "<div>\n",
       "<style scoped>\n",
       "    .dataframe tbody tr th:only-of-type {\n",
       "        vertical-align: middle;\n",
       "    }\n",
       "\n",
       "    .dataframe tbody tr th {\n",
       "        vertical-align: top;\n",
       "    }\n",
       "\n",
       "    .dataframe thead th {\n",
       "        text-align: right;\n",
       "    }\n",
       "</style>\n",
       "<table border=\"1\" class=\"dataframe\">\n",
       "  <thead>\n",
       "    <tr style=\"text-align: right;\">\n",
       "      <th></th>\n",
       "      <th>article</th>\n",
       "      <th>summary</th>\n",
       "      <th>cleaned_text</th>\n",
       "      <th>cleaned_summary</th>\n",
       "    </tr>\n",
       "  </thead>\n",
       "  <tbody>\n",
       "    <tr>\n",
       "      <th>0</th>\n",
       "      <td>LONDON, England (Reuters) -- Harry Potter star...</td>\n",
       "      <td>Harry Potter star Daniel Radcliffe gets £20M f...</td>\n",
       "      <td>london  england  reuters     harry potter star...</td>\n",
       "      <td>_START_ harry potter star daniel radcliffe get...</td>\n",
       "    </tr>\n",
       "    <tr>\n",
       "      <th>1</th>\n",
       "      <td>Editor's note: In our Behind the Scenes series...</td>\n",
       "      <td>Mentally ill inmates in Miami are housed on th...</td>\n",
       "      <td>editor is note  in our behind the scenes serie...</td>\n",
       "      <td>_START_ mentally ill inmates in miami are hous...</td>\n",
       "    </tr>\n",
       "    <tr>\n",
       "      <th>2</th>\n",
       "      <td>MINNEAPOLIS, Minnesota (CNN) -- Drivers who we...</td>\n",
       "      <td>NEW: \"I thought I was going to die,\" driver sa...</td>\n",
       "      <td>minneapolis  minnesota  cnn     drivers who we...</td>\n",
       "      <td>_START_ new   i thought i was going to die   d...</td>\n",
       "    </tr>\n",
       "    <tr>\n",
       "      <th>3</th>\n",
       "      <td>WASHINGTON (CNN) -- Doctors removed five small...</td>\n",
       "      <td>Five small polyps found during procedure; \"non...</td>\n",
       "      <td>washington  cnn     doctors removed five small...</td>\n",
       "      <td>_START_ five small polyps found during procedu...</td>\n",
       "    </tr>\n",
       "    <tr>\n",
       "      <th>4</th>\n",
       "      <td>(CNN)  -- The National Football League has ind...</td>\n",
       "      <td>NEW: NFL chief, Atlanta Falcons owner critical...</td>\n",
       "      <td>cnn      the national football league has ind...</td>\n",
       "      <td>_START_ new  nfl chief  atlanta falcons owner ...</td>\n",
       "    </tr>\n",
       "  </tbody>\n",
       "</table>\n",
       "</div>"
      ],
      "text/plain": [
       "                                             article   \n",
       "0  LONDON, England (Reuters) -- Harry Potter star...  \\\n",
       "1  Editor's note: In our Behind the Scenes series...   \n",
       "2  MINNEAPOLIS, Minnesota (CNN) -- Drivers who we...   \n",
       "3  WASHINGTON (CNN) -- Doctors removed five small...   \n",
       "4  (CNN)  -- The National Football League has ind...   \n",
       "\n",
       "                                             summary   \n",
       "0  Harry Potter star Daniel Radcliffe gets £20M f...  \\\n",
       "1  Mentally ill inmates in Miami are housed on th...   \n",
       "2  NEW: \"I thought I was going to die,\" driver sa...   \n",
       "3  Five small polyps found during procedure; \"non...   \n",
       "4  NEW: NFL chief, Atlanta Falcons owner critical...   \n",
       "\n",
       "                                        cleaned_text   \n",
       "0  london  england  reuters     harry potter star...  \\\n",
       "1  editor is note  in our behind the scenes serie...   \n",
       "2  minneapolis  minnesota  cnn     drivers who we...   \n",
       "3  washington  cnn     doctors removed five small...   \n",
       "4   cnn      the national football league has ind...   \n",
       "\n",
       "                                     cleaned_summary  \n",
       "0  _START_ harry potter star daniel radcliffe get...  \n",
       "1  _START_ mentally ill inmates in miami are hous...  \n",
       "2  _START_ new   i thought i was going to die   d...  \n",
       "3  _START_ five small polyps found during procedu...  \n",
       "4  _START_ new  nfl chief  atlanta falcons owner ...  "
      ]
     },
     "execution_count": 24,
     "metadata": {},
     "output_type": "execute_result"
    }
   ],
   "source": [
    "pre.head()"
   ]
  },
  {
   "cell_type": "code",
   "execution_count": 25,
   "id": "5196ac4d",
   "metadata": {},
   "outputs": [],
   "source": [
    "\n",
    "#import tensorflow as tf\n",
    "#from tensorflow.keras.preprocessing.text import Tokenizer\n",
    "#from tensorflow.keras.preprocessing.sequence import pad_sequences\n"
   ]
  },
  {
   "cell_type": "code",
   "execution_count": 26,
   "id": "911ea93a",
   "metadata": {},
   "outputs": [],
   "source": [
    "#text_tokenizer = Tokenizer(oov_token=\"<OOV>\")\n",
    "#text_tokenizer.fit_on_texts(processed_text)\n"
   ]
  },
  {
   "cell_type": "code",
   "execution_count": 27,
   "id": "d1f3254e",
   "metadata": {},
   "outputs": [],
   "source": [
    "#summary_tokenizer = Tokenizer(oov_token=\"<OOV>\")\n",
    "#summary_tokenizer.fit_on_texts(summary)\n"
   ]
  },
  {
   "cell_type": "code",
   "execution_count": 28,
   "id": "62e10ade",
   "metadata": {},
   "outputs": [],
   "source": [
    "#text_sequences = text_tokenizer.texts_to_sequences(processed_text)\n",
    "#summary_sequences = summary_tokenizer.texts_to_sequences(summary)\n",
    "\n",
    "# Pad sequences to a fixed length\n",
    "#max_text_length = 500  # Set your desired text sequence length\n",
    "#max_summary_length = 50  # Set your desired summary sequence length\n",
    "#padded_text_sequences = pad_sequences(text_sequences, maxlen=max_text_length, padding='post', truncating='post')\n",
    "#padded_summary_sequences = pad_sequences(summary_sequences, maxlen=max_summary_length, padding='post', truncating='post')\n"
   ]
  },
  {
   "cell_type": "code",
   "execution_count": 29,
   "id": "679f3cd0",
   "metadata": {},
   "outputs": [],
   "source": [
    "\n",
    "#batch_size = 32   \n",
    "#dataset = tf.data.Dataset.from_tensor_slices((padded_text_sequences, padded_summary_sequences))\n",
    "#dataset = dataset.batch(batch_size)\n",
    "\n",
    " \n",
    "#for batch_texts, batch_summaries in dataset:\n",
    "    \n",
    "    #print(\"Batch of texts:\", batch_texts)\n",
    "    #print(\"Batch of summaries:\", batch_summaries)\n",
    "\n"
   ]
  },
  {
   "cell_type": "code",
   "execution_count": 30,
   "id": "d944ec0f",
   "metadata": {},
   "outputs": [
    {
     "name": "stdout",
     "output_type": "stream",
     "text": [
      "2244\n"
     ]
    }
   ],
   "source": [
    "import numpy as np\n",
    "batch_size = 128\n",
    "\n",
    "# Calculate the number of batches needed\n",
    "num_batches = len(pre) // batch_size + (len(pre) % batch_size > 0)\n",
    "data_batches = np.array_split(pre, num_batches)\n",
    "print(num_batches)"
   ]
  },
  {
   "cell_type": "code",
   "execution_count": 31,
   "id": "10aae784",
   "metadata": {},
   "outputs": [
    {
     "data": {
      "text/html": [
       "<div>\n",
       "<style scoped>\n",
       "    .dataframe tbody tr th:only-of-type {\n",
       "        vertical-align: middle;\n",
       "    }\n",
       "\n",
       "    .dataframe tbody tr th {\n",
       "        vertical-align: top;\n",
       "    }\n",
       "\n",
       "    .dataframe thead th {\n",
       "        text-align: right;\n",
       "    }\n",
       "</style>\n",
       "<table border=\"1\" class=\"dataframe\">\n",
       "  <thead>\n",
       "    <tr style=\"text-align: right;\">\n",
       "      <th></th>\n",
       "      <th>article</th>\n",
       "      <th>summary</th>\n",
       "      <th>cleaned_text</th>\n",
       "      <th>cleaned_summary</th>\n",
       "    </tr>\n",
       "  </thead>\n",
       "  <tbody>\n",
       "    <tr>\n",
       "      <th>128</th>\n",
       "      <td>(RealSimple.com) -- Why shoes are called \"pump...</td>\n",
       "      <td>Polish diplomats brought pointed shoes to Brit...</td>\n",
       "      <td>realsimple com     why shoes are called  pump...</td>\n",
       "      <td>_START_ polish diplomats brought pointed shoes...</td>\n",
       "    </tr>\n",
       "    <tr>\n",
       "      <th>129</th>\n",
       "      <td>BARCELONA, England -- Ronaldinho has been reca...</td>\n",
       "      <td>Ronaldinho is recalled to Barca squad to face ...</td>\n",
       "      <td>barcelona  england    ronaldinho has been reca...</td>\n",
       "      <td>_START_ ronaldinho is recalled to barca squad ...</td>\n",
       "    </tr>\n",
       "    <tr>\n",
       "      <th>130</th>\n",
       "      <td>(CNN) -- At one point in Jared Hutchins' young...</td>\n",
       "      <td>Thousands of teens attend Christian rallies ea...</td>\n",
       "      <td>cnn     at one point in jared hutchins  young...</td>\n",
       "      <td>_START_ thousands of teens attend christian ra...</td>\n",
       "    </tr>\n",
       "    <tr>\n",
       "      <th>131</th>\n",
       "      <td>ATLANTA, Georgia (CNN) -- I was 14 at the time...</td>\n",
       "      <td>CNN's Octavia Nasr: Will Lebanon's brief renai...</td>\n",
       "      <td>atlanta  georgia  cnn     i was 14 at the time...</td>\n",
       "      <td>_START_ cnn is octavia nasr  will lebanon is b...</td>\n",
       "    </tr>\n",
       "    <tr>\n",
       "      <th>132</th>\n",
       "      <td>SAN DIEGO, California (CNN) -- Firefighters in...</td>\n",
       "      <td>No end \"until it reaches the ocean or the wind...</td>\n",
       "      <td>san diego  california  cnn     firefighters in...</td>\n",
       "      <td>_START_ no end  until it reaches the ocean or ...</td>\n",
       "    </tr>\n",
       "    <tr>\n",
       "      <th>...</th>\n",
       "      <td>...</td>\n",
       "      <td>...</td>\n",
       "      <td>...</td>\n",
       "      <td>...</td>\n",
       "    </tr>\n",
       "    <tr>\n",
       "      <th>251</th>\n",
       "      <td>PARIS, France (CNN) -- The Paris suburbs were ...</td>\n",
       "      <td>Riots in French suburb for second night after ...</td>\n",
       "      <td>paris  france  cnn     the paris suburbs were ...</td>\n",
       "      <td>_START_ riots in french suburb for second nigh...</td>\n",
       "    </tr>\n",
       "    <tr>\n",
       "      <th>252</th>\n",
       "      <td>Japanese actress Rinko Kikuchi walks Anjali Ra...</td>\n",
       "      <td>Rinko Kikuchi was Oscar-nominated for her perf...</td>\n",
       "      <td>japanese actress rinko kikuchi walks anjali ra...</td>\n",
       "      <td>_START_ rinko kikuchi was oscar nominated for ...</td>\n",
       "    </tr>\n",
       "    <tr>\n",
       "      <th>253</th>\n",
       "      <td>(CNN) -- The orgy of violence that has greeted...</td>\n",
       "      <td>Kenya's once-stable economy faltering due to v...</td>\n",
       "      <td>cnn     the orgy of violence that has greeted...</td>\n",
       "      <td>_START_ kenya is once stable economy faltering...</td>\n",
       "    </tr>\n",
       "    <tr>\n",
       "      <th>254</th>\n",
       "      <td>(CNN) -- This month on Art of Life we feel the...</td>\n",
       "      <td>This month Art of Life looks at motorbike, pla...</td>\n",
       "      <td>cnn     this month on art of life we feel the...</td>\n",
       "      <td>_START_ this month art of life looks at motorb...</td>\n",
       "    </tr>\n",
       "    <tr>\n",
       "      <th>255</th>\n",
       "      <td>(CNN) -- The most compelling action during Mic...</td>\n",
       "      <td>Independents, Democrats can vote in Michigan's...</td>\n",
       "      <td>cnn     the most compelling action during mic...</td>\n",
       "      <td>_START_ independents  democrats can vote in mi...</td>\n",
       "    </tr>\n",
       "  </tbody>\n",
       "</table>\n",
       "<p>128 rows × 4 columns</p>\n",
       "</div>"
      ],
      "text/plain": [
       "                                               article   \n",
       "128  (RealSimple.com) -- Why shoes are called \"pump...  \\\n",
       "129  BARCELONA, England -- Ronaldinho has been reca...   \n",
       "130  (CNN) -- At one point in Jared Hutchins' young...   \n",
       "131  ATLANTA, Georgia (CNN) -- I was 14 at the time...   \n",
       "132  SAN DIEGO, California (CNN) -- Firefighters in...   \n",
       "..                                                 ...   \n",
       "251  PARIS, France (CNN) -- The Paris suburbs were ...   \n",
       "252  Japanese actress Rinko Kikuchi walks Anjali Ra...   \n",
       "253  (CNN) -- The orgy of violence that has greeted...   \n",
       "254  (CNN) -- This month on Art of Life we feel the...   \n",
       "255  (CNN) -- The most compelling action during Mic...   \n",
       "\n",
       "                                               summary   \n",
       "128  Polish diplomats brought pointed shoes to Brit...  \\\n",
       "129  Ronaldinho is recalled to Barca squad to face ...   \n",
       "130  Thousands of teens attend Christian rallies ea...   \n",
       "131  CNN's Octavia Nasr: Will Lebanon's brief renai...   \n",
       "132  No end \"until it reaches the ocean or the wind...   \n",
       "..                                                 ...   \n",
       "251  Riots in French suburb for second night after ...   \n",
       "252  Rinko Kikuchi was Oscar-nominated for her perf...   \n",
       "253  Kenya's once-stable economy faltering due to v...   \n",
       "254  This month Art of Life looks at motorbike, pla...   \n",
       "255  Independents, Democrats can vote in Michigan's...   \n",
       "\n",
       "                                          cleaned_text   \n",
       "128   realsimple com     why shoes are called  pump...  \\\n",
       "129  barcelona  england    ronaldinho has been reca...   \n",
       "130   cnn     at one point in jared hutchins  young...   \n",
       "131  atlanta  georgia  cnn     i was 14 at the time...   \n",
       "132  san diego  california  cnn     firefighters in...   \n",
       "..                                                 ...   \n",
       "251  paris  france  cnn     the paris suburbs were ...   \n",
       "252  japanese actress rinko kikuchi walks anjali ra...   \n",
       "253   cnn     the orgy of violence that has greeted...   \n",
       "254   cnn     this month on art of life we feel the...   \n",
       "255   cnn     the most compelling action during mic...   \n",
       "\n",
       "                                       cleaned_summary  \n",
       "128  _START_ polish diplomats brought pointed shoes...  \n",
       "129  _START_ ronaldinho is recalled to barca squad ...  \n",
       "130  _START_ thousands of teens attend christian ra...  \n",
       "131  _START_ cnn is octavia nasr  will lebanon is b...  \n",
       "132  _START_ no end  until it reaches the ocean or ...  \n",
       "..                                                 ...  \n",
       "251  _START_ riots in french suburb for second nigh...  \n",
       "252  _START_ rinko kikuchi was oscar nominated for ...  \n",
       "253  _START_ kenya is once stable economy faltering...  \n",
       "254  _START_ this month art of life looks at motorb...  \n",
       "255  _START_ independents  democrats can vote in mi...  \n",
       "\n",
       "[128 rows x 4 columns]"
      ]
     },
     "execution_count": 31,
     "metadata": {},
     "output_type": "execute_result"
    }
   ],
   "source": [
    "data_batches[1]"
   ]
  },
  {
   "cell_type": "code",
   "execution_count": 32,
   "id": "9c8f8f42",
   "metadata": {},
   "outputs": [
    {
     "data": {
      "text/html": [
       "<div>\n",
       "<style scoped>\n",
       "    .dataframe tbody tr th:only-of-type {\n",
       "        vertical-align: middle;\n",
       "    }\n",
       "\n",
       "    .dataframe tbody tr th {\n",
       "        vertical-align: top;\n",
       "    }\n",
       "\n",
       "    .dataframe thead th {\n",
       "        text-align: right;\n",
       "    }\n",
       "</style>\n",
       "<table border=\"1\" class=\"dataframe\">\n",
       "  <thead>\n",
       "    <tr style=\"text-align: right;\">\n",
       "      <th></th>\n",
       "      <th>article</th>\n",
       "      <th>summary</th>\n",
       "      <th>cleaned_text</th>\n",
       "      <th>cleaned_summary</th>\n",
       "    </tr>\n",
       "  </thead>\n",
       "  <tbody>\n",
       "    <tr>\n",
       "      <th>0</th>\n",
       "      <td>LONDON, England (Reuters) -- Harry Potter star...</td>\n",
       "      <td>Harry Potter star Daniel Radcliffe gets £20M f...</td>\n",
       "      <td>london  england  reuters     harry potter star...</td>\n",
       "      <td>_START_ harry potter star daniel radcliffe get...</td>\n",
       "    </tr>\n",
       "    <tr>\n",
       "      <th>1</th>\n",
       "      <td>Editor's note: In our Behind the Scenes series...</td>\n",
       "      <td>Mentally ill inmates in Miami are housed on th...</td>\n",
       "      <td>editor is note  in our behind the scenes serie...</td>\n",
       "      <td>_START_ mentally ill inmates in miami are hous...</td>\n",
       "    </tr>\n",
       "    <tr>\n",
       "      <th>2</th>\n",
       "      <td>MINNEAPOLIS, Minnesota (CNN) -- Drivers who we...</td>\n",
       "      <td>NEW: \"I thought I was going to die,\" driver sa...</td>\n",
       "      <td>minneapolis  minnesota  cnn     drivers who we...</td>\n",
       "      <td>_START_ new   i thought i was going to die   d...</td>\n",
       "    </tr>\n",
       "    <tr>\n",
       "      <th>3</th>\n",
       "      <td>WASHINGTON (CNN) -- Doctors removed five small...</td>\n",
       "      <td>Five small polyps found during procedure; \"non...</td>\n",
       "      <td>washington  cnn     doctors removed five small...</td>\n",
       "      <td>_START_ five small polyps found during procedu...</td>\n",
       "    </tr>\n",
       "    <tr>\n",
       "      <th>4</th>\n",
       "      <td>(CNN)  -- The National Football League has ind...</td>\n",
       "      <td>NEW: NFL chief, Atlanta Falcons owner critical...</td>\n",
       "      <td>cnn      the national football league has ind...</td>\n",
       "      <td>_START_ new  nfl chief  atlanta falcons owner ...</td>\n",
       "    </tr>\n",
       "    <tr>\n",
       "      <th>...</th>\n",
       "      <td>...</td>\n",
       "      <td>...</td>\n",
       "      <td>...</td>\n",
       "      <td>...</td>\n",
       "    </tr>\n",
       "    <tr>\n",
       "      <th>123</th>\n",
       "      <td>(CNN)  -- Brendon Pelser said he saw pure terr...</td>\n",
       "      <td>Nationwide Airlines pilot dumped fuel until he...</td>\n",
       "      <td>cnn      brendon pelser said he saw pure terr...</td>\n",
       "      <td>_START_ nationwide airlines pilot dumped fuel ...</td>\n",
       "    </tr>\n",
       "    <tr>\n",
       "      <th>124</th>\n",
       "      <td>(CNN) -- Federal Emergency Management Agency o...</td>\n",
       "      <td>FEMA doesn't face utter devastation as in Gulf...</td>\n",
       "      <td>cnn     federal emergency management agency o...</td>\n",
       "      <td>_START_ fema does not face utter devastation a...</td>\n",
       "    </tr>\n",
       "    <tr>\n",
       "      <th>125</th>\n",
       "      <td>(CNN) -- The late Chris Benoit idolized the Dy...</td>\n",
       "      <td>Vince McMahon: WWE has one of best drug-testin...</td>\n",
       "      <td>cnn     the late chris benoit idolized the dy...</td>\n",
       "      <td>_START_ vince mcmahon  wwe has one of best dru...</td>\n",
       "    </tr>\n",
       "    <tr>\n",
       "      <th>126</th>\n",
       "      <td>(Mental Floss) -- Everyone goes through a rebe...</td>\n",
       "      <td>Justa Grata Honoria plotted to kill her empero...</td>\n",
       "      <td>mental floss     everyone goes through a rebe...</td>\n",
       "      <td>_START_ justa grata honoria plotted to kill he...</td>\n",
       "    </tr>\n",
       "    <tr>\n",
       "      <th>127</th>\n",
       "      <td>LONDON, England (CNN) -- Football dignitaries ...</td>\n",
       "      <td>FIFA President Sepp Blatter among guests marki...</td>\n",
       "      <td>london  england  cnn     football dignitaries ...</td>\n",
       "      <td>_START_ fifa president sepp blatter among gues...</td>\n",
       "    </tr>\n",
       "  </tbody>\n",
       "</table>\n",
       "<p>128 rows × 4 columns</p>\n",
       "</div>"
      ],
      "text/plain": [
       "                                               article   \n",
       "0    LONDON, England (Reuters) -- Harry Potter star...  \\\n",
       "1    Editor's note: In our Behind the Scenes series...   \n",
       "2    MINNEAPOLIS, Minnesota (CNN) -- Drivers who we...   \n",
       "3    WASHINGTON (CNN) -- Doctors removed five small...   \n",
       "4    (CNN)  -- The National Football League has ind...   \n",
       "..                                                 ...   \n",
       "123  (CNN)  -- Brendon Pelser said he saw pure terr...   \n",
       "124  (CNN) -- Federal Emergency Management Agency o...   \n",
       "125  (CNN) -- The late Chris Benoit idolized the Dy...   \n",
       "126  (Mental Floss) -- Everyone goes through a rebe...   \n",
       "127  LONDON, England (CNN) -- Football dignitaries ...   \n",
       "\n",
       "                                               summary   \n",
       "0    Harry Potter star Daniel Radcliffe gets £20M f...  \\\n",
       "1    Mentally ill inmates in Miami are housed on th...   \n",
       "2    NEW: \"I thought I was going to die,\" driver sa...   \n",
       "3    Five small polyps found during procedure; \"non...   \n",
       "4    NEW: NFL chief, Atlanta Falcons owner critical...   \n",
       "..                                                 ...   \n",
       "123  Nationwide Airlines pilot dumped fuel until he...   \n",
       "124  FEMA doesn't face utter devastation as in Gulf...   \n",
       "125  Vince McMahon: WWE has one of best drug-testin...   \n",
       "126  Justa Grata Honoria plotted to kill her empero...   \n",
       "127  FIFA President Sepp Blatter among guests marki...   \n",
       "\n",
       "                                          cleaned_text   \n",
       "0    london  england  reuters     harry potter star...  \\\n",
       "1    editor is note  in our behind the scenes serie...   \n",
       "2    minneapolis  minnesota  cnn     drivers who we...   \n",
       "3    washington  cnn     doctors removed five small...   \n",
       "4     cnn      the national football league has ind...   \n",
       "..                                                 ...   \n",
       "123   cnn      brendon pelser said he saw pure terr...   \n",
       "124   cnn     federal emergency management agency o...   \n",
       "125   cnn     the late chris benoit idolized the dy...   \n",
       "126   mental floss     everyone goes through a rebe...   \n",
       "127  london  england  cnn     football dignitaries ...   \n",
       "\n",
       "                                       cleaned_summary  \n",
       "0    _START_ harry potter star daniel radcliffe get...  \n",
       "1    _START_ mentally ill inmates in miami are hous...  \n",
       "2    _START_ new   i thought i was going to die   d...  \n",
       "3    _START_ five small polyps found during procedu...  \n",
       "4    _START_ new  nfl chief  atlanta falcons owner ...  \n",
       "..                                                 ...  \n",
       "123  _START_ nationwide airlines pilot dumped fuel ...  \n",
       "124  _START_ fema does not face utter devastation a...  \n",
       "125  _START_ vince mcmahon  wwe has one of best dru...  \n",
       "126  _START_ justa grata honoria plotted to kill he...  \n",
       "127  _START_ fifa president sepp blatter among gues...  \n",
       "\n",
       "[128 rows x 4 columns]"
      ]
     },
     "execution_count": 32,
     "metadata": {},
     "output_type": "execute_result"
    }
   ],
   "source": [
    "data_batches[0]"
   ]
  },
  {
   "cell_type": "code",
   "execution_count": null,
   "id": "c019368f",
   "metadata": {},
   "outputs": [],
   "source": []
  },
  {
   "cell_type": "code",
   "execution_count": 33,
   "id": "ff39d1a1",
   "metadata": {},
   "outputs": [],
   "source": [
    "import matplotlib.pyplot as plt\n",
    "\n",
    "from collections import Counter\n",
    "from nltk.tokenize import word_tokenize"
   ]
  },
  {
   "cell_type": "code",
   "execution_count": null,
   "id": "f4ff25ad",
   "metadata": {},
   "outputs": [],
   "source": []
  },
  {
   "cell_type": "code",
   "execution_count": null,
   "id": "2bb3715d",
   "metadata": {},
   "outputs": [],
   "source": []
  },
  {
   "cell_type": "code",
   "execution_count": null,
   "id": "b74d08e8",
   "metadata": {},
   "outputs": [],
   "source": []
  },
  {
   "cell_type": "code",
   "execution_count": 34,
   "id": "d03a92bb",
   "metadata": {},
   "outputs": [
    {
     "data": {
      "image/png": "[encoded data removed]",
      "text/plain": [
       "<Figure size 640x480 with 2 Axes>"
      ]
     },
     "metadata": {},
     "output_type": "display_data"
    }
   ],
   "source": [
    "import matplotlib.pyplot as plt\n",
    "\n",
    "text_count = []\n",
    "summary_count = []\n",
    "#pre = pre[pre['cleaned_text'].apply(lambda x: isinstance(x, list))]\n",
    "\n",
    "text_count = [len(sent) for sent in pre['cleaned_text']]\n",
    "summary_count = [len(sent) for sent in pre['cleaned_summary']]\n",
    "\n",
    "for sent in pre['cleaned_text']:\n",
    "    text_count.append(len(sent.split()))\n",
    "    \n",
    "for sent in pre['cleaned_summary']:\n",
    "    summary_count.append(len(sent.split()))\n",
    "\n",
    "graph_df = pd.DataFrame() \n",
    "\n",
    "graph_df['text'] = text_count\n",
    "graph_df['summary'] = summary_count\n",
    "\n",
    "graph_df.hist(bins = 5)\n",
    "plt.show()\n"
   ]
  },
  {
   "cell_type": "code",
   "execution_count": 35,
   "id": "ea2ed3ae",
   "metadata": {},
   "outputs": [
    {
     "name": "stdout",
     "output_type": "stream",
     "text": [
      "cleaned_text\n",
      "<class 'str'>    287113\n",
      "Name: count, dtype: int64\n",
      "cleaned_summary\n",
      "<class 'str'>    287113\n",
      "Name: count, dtype: int64\n"
     ]
    }
   ],
   "source": [
    "print(pre['cleaned_text'].apply(type).value_counts())\n",
    "print(pre['cleaned_summary'].apply(type).value_counts())\n"
   ]
  },
  {
   "cell_type": "code",
   "execution_count": 36,
   "id": "c5f6e840",
   "metadata": {},
   "outputs": [
    {
     "data": {
      "image/png": "[encoded data removed]",
      "text/plain": [
       "<Figure size 1000x500 with 2 Axes>"
      ]
     },
     "metadata": {},
     "output_type": "display_data"
    }
   ],
   "source": [
    "\n",
    "import pandas as pd\n",
    "\n",
    "# Drop rows where 'cleaned_text' is of type 'float'\n",
    "#pre = pre[pre['cleaned_text'].apply(lambda x: isinstance(x, list))]\n",
    "\n",
    "# Now you can proceed with creating the graph as before\n",
    "import matplotlib.pyplot as plt\n",
    "\n",
    "text_count = [len(sent) for sent in pre['cleaned_text']]\n",
    "summary_count = [len(sent.split()) for sent in pre['cleaned_summary']]  # You can adjust this as needed\n",
    "\n",
    "graph_df = pd.DataFrame() \n",
    "\n",
    "graph_df['text'] = text_count\n",
    "graph_df['summary'] = summary_count\n",
    "\n",
    "graph_df.hist(bins=50, alpha=0.7, figsize=(10, 5))\n",
    "plt.title('Text and Summary Length Distribution')\n",
    "plt.xlabel('Length')\n",
    "plt.ylabel('Frequency')\n",
    "plt.legend(['Text', 'Summary'])\n",
    "plt.show()\n"
   ]
  },
  {
   "cell_type": "code",
   "execution_count": 37,
   "id": "191e424d",
   "metadata": {
    "scrolled": true
   },
   "outputs": [
    {
     "name": "stdout",
     "output_type": "stream",
     "text": [
      "0.9075381470013548\n"
     ]
    }
   ],
   "source": [
    "# Check how much % of text have 0-100 words\n",
    "cnt = 0\n",
    "for i in pre['cleaned_text']:\n",
    "    if len(i.split()) <= 1200:\n",
    "        cnt = cnt + 1\n",
    "print(cnt / len(pre['cleaned_text']))"
   ]
  },
  {
   "cell_type": "code",
   "execution_count": 38,
   "id": "b01a9827",
   "metadata": {},
   "outputs": [
    {
     "name": "stdout",
     "output_type": "stream",
     "text": [
      "0.9538126103659534\n"
     ]
    }
   ],
   "source": [
    "\n",
    "cnt = 0\n",
    "for i in pre['cleaned_summary']:\n",
    "    if len(i.split()) <= 90:\n",
    "        cnt = cnt + 1\n",
    "print(cnt / len(pre['cleaned_summary']))"
   ]
  },
  {
   "cell_type": "code",
   "execution_count": 39,
   "id": "c1882a49",
   "metadata": {},
   "outputs": [],
   "source": [
    "max_text_len = 1200\n",
    "max_summary_len = 90"
   ]
  },
  {
   "cell_type": "code",
   "execution_count": 40,
   "id": "70e19b35",
   "metadata": {},
   "outputs": [
    {
     "data": {
      "text/html": [
       "<div>\n",
       "<style scoped>\n",
       "    .dataframe tbody tr th:only-of-type {\n",
       "        vertical-align: middle;\n",
       "    }\n",
       "\n",
       "    .dataframe tbody tr th {\n",
       "        vertical-align: top;\n",
       "    }\n",
       "\n",
       "    .dataframe thead th {\n",
       "        text-align: right;\n",
       "    }\n",
       "</style>\n",
       "<table border=\"1\" class=\"dataframe\">\n",
       "  <thead>\n",
       "    <tr style=\"text-align: right;\">\n",
       "      <th></th>\n",
       "      <th>text</th>\n",
       "      <th>summary</th>\n",
       "    </tr>\n",
       "  </thead>\n",
       "  <tbody>\n",
       "    <tr>\n",
       "      <th>0</th>\n",
       "      <td>london  england  reuters     harry potter star...</td>\n",
       "      <td>_START_ harry potter star daniel radcliffe get...</td>\n",
       "    </tr>\n",
       "    <tr>\n",
       "      <th>1</th>\n",
       "      <td>editor is note  in our behind the scenes serie...</td>\n",
       "      <td>_START_ mentally ill inmates in miami are hous...</td>\n",
       "    </tr>\n",
       "  </tbody>\n",
       "</table>\n",
       "</div>"
      ],
      "text/plain": [
       "                                                text   \n",
       "0  london  england  reuters     harry potter star...  \\\n",
       "1  editor is note  in our behind the scenes serie...   \n",
       "\n",
       "                                             summary  \n",
       "0  _START_ harry potter star daniel radcliffe get...  \n",
       "1  _START_ mentally ill inmates in miami are hous...  "
      ]
     },
     "execution_count": 40,
     "metadata": {},
     "output_type": "execute_result"
    }
   ],
   "source": [
    "# Select the Summaries and Text which fall below max length \n",
    "\n",
    "import numpy as np\n",
    "\n",
    "cleaned_text = np.array(pre['cleaned_text'])\n",
    "cleaned_summary= np.array(pre['cleaned_summary'])\n",
    "\n",
    "short_text = []\n",
    "short_summary = []\n",
    "\n",
    "for i in range(len(cleaned_text)):\n",
    "    if len(cleaned_summary[i].split()) <= max_summary_len and len(cleaned_text[i].split()) <= max_text_len:\n",
    "        short_text.append(cleaned_text[i])\n",
    "        short_summary.append(cleaned_summary[i])\n",
    "        \n",
    "post_pre = pd.DataFrame({'text': short_text,'summary': short_summary})\n",
    "\n",
    "post_pre.head(2)"
   ]
  },
  {
   "cell_type": "code",
   "execution_count": 41,
   "id": "e54b9196",
   "metadata": {},
   "outputs": [
    {
     "data": {
      "text/html": [
       "<div>\n",
       "<style scoped>\n",
       "    .dataframe tbody tr th:only-of-type {\n",
       "        vertical-align: middle;\n",
       "    }\n",
       "\n",
       "    .dataframe tbody tr th {\n",
       "        vertical-align: top;\n",
       "    }\n",
       "\n",
       "    .dataframe thead th {\n",
       "        text-align: right;\n",
       "    }\n",
       "</style>\n",
       "<table border=\"1\" class=\"dataframe\">\n",
       "  <thead>\n",
       "    <tr style=\"text-align: right;\">\n",
       "      <th></th>\n",
       "      <th>text</th>\n",
       "      <th>summary</th>\n",
       "    </tr>\n",
       "  </thead>\n",
       "  <tbody>\n",
       "    <tr>\n",
       "      <th>0</th>\n",
       "      <td>london  england  reuters     harry potter star...</td>\n",
       "      <td>sostok _START_ harry potter star daniel radcli...</td>\n",
       "    </tr>\n",
       "    <tr>\n",
       "      <th>1</th>\n",
       "      <td>editor is note  in our behind the scenes serie...</td>\n",
       "      <td>sostok _START_ mentally ill inmates in miami a...</td>\n",
       "    </tr>\n",
       "  </tbody>\n",
       "</table>\n",
       "</div>"
      ],
      "text/plain": [
       "                                                text   \n",
       "0  london  england  reuters     harry potter star...  \\\n",
       "1  editor is note  in our behind the scenes serie...   \n",
       "\n",
       "                                             summary  \n",
       "0  sostok _START_ harry potter star daniel radcli...  \n",
       "1  sostok _START_ mentally ill inmates in miami a...  "
      ]
     },
     "execution_count": 41,
     "metadata": {},
     "output_type": "execute_result"
    }
   ],
   "source": [
    "# Add sostok and eostok\n",
    "\n",
    "post_pre['summary'] = post_pre['summary'].apply(lambda x: 'sostok ' + x \\\n",
    "        + ' eostok')\n",
    "\n",
    "post_pre.head(2)"
   ]
  },
  {
   "cell_type": "code",
   "execution_count": 42,
   "id": "18e17545",
   "metadata": {},
   "outputs": [],
   "source": [
    "# tockenizing"
   ]
  },
  {
   "cell_type": "code",
   "execution_count": 43,
   "id": "90a73d34",
   "metadata": {},
   "outputs": [],
   "source": [
    "from sklearn.model_selection import train_test_split\n",
    "\n",
    "x_tr, x_val, y_tr, y_val = train_test_split(\n",
    "    np.array(post_pre[\"text\"]),\n",
    "    np.array(post_pre[\"summary\"]),\n",
    "    test_size=0.1,\n",
    "    random_state=0,\n",
    "    shuffle=True,\n",
    ")"
   ]
  },
  {
   "cell_type": "code",
   "execution_count": 44,
   "id": "9f7e83b2",
   "metadata": {},
   "outputs": [],
   "source": [
    "# Tokenize the text to get the vocab count \n",
    "from tensorflow.keras.preprocessing.text import Tokenizer \n",
    "from tensorflow.keras.preprocessing.sequence import pad_sequences\n",
    "\n",
    "# Prepare a tokenizer on training data\n",
    "x_tokenizer = Tokenizer() \n",
    "x_tokenizer.fit_on_texts(list(x_tr))"
   ]
  },
  {
   "cell_type": "code",
   "execution_count": 45,
   "id": "2f0ac8c7",
   "metadata": {},
   "outputs": [
    {
     "name": "stdout",
     "output_type": "stream",
     "text": [
      "% of rare words in vocabulary:  62.32418649830015\n"
     ]
    }
   ],
   "source": [
    "thresh = 5\n",
    "\n",
    "cnt = 0\n",
    "tot_cnt = 0\n",
    "\n",
    "for key, value in x_tokenizer.word_counts.items():\n",
    "    tot_cnt = tot_cnt + 1\n",
    "    if value < thresh:\n",
    "        cnt = cnt + 1\n",
    "    \n",
    "print(\"% of rare words in vocabulary: \", (cnt / tot_cnt) * 100)"
   ]
  },
  {
   "cell_type": "code",
   "execution_count": 46,
   "id": "20b0a341",
   "metadata": {},
   "outputs": [
    {
     "name": "stdout",
     "output_type": "stream",
     "text": [
      "Size of vocabulary in X = 155150\n"
     ]
    }
   ],
   "source": [
    "# Prepare a tokenizer, again -- by not considering the rare words\n",
    "x_tokenizer = Tokenizer(num_words = tot_cnt - cnt) \n",
    "x_tokenizer.fit_on_texts(list(x_tr))\n",
    "\n",
    "# Convert text sequences to integer sequences \n",
    "x_tr_seq = x_tokenizer.texts_to_sequences(x_tr) \n",
    "x_val_seq = x_tokenizer.texts_to_sequences(x_val)\n",
    "\n",
    "# Pad zero upto maximum length\n",
    "x_tr = pad_sequences(x_tr_seq,  maxlen=max_text_len, padding='post')\n",
    "x_val = pad_sequences(x_val_seq, maxlen=max_text_len, padding='post')\n",
    "\n",
    "# Size of vocabulary (+1 for padding token)\n",
    "x_voc = x_tokenizer.num_words + 1\n",
    "\n",
    "print(\"Size of vocabulary in X = {}\".format(x_voc))"
   ]
  },
  {
   "cell_type": "code",
   "execution_count": 47,
   "id": "8f4ff291",
   "metadata": {},
   "outputs": [
    {
     "name": "stdout",
     "output_type": "stream",
     "text": [
      "% of rare words in vocabulary: 66.15717273403992\n",
      "Size of vocabulary in Y = 47738\n"
     ]
    }
   ],
   "source": [
    "# Prepare a tokenizer on testing data\n",
    "y_tokenizer = Tokenizer()   \n",
    "y_tokenizer.fit_on_texts(list(y_tr))\n",
    "\n",
    "thresh = 5\n",
    "\n",
    "cnt = 0\n",
    "tot_cnt = 0\n",
    "\n",
    "for key, value in y_tokenizer.word_counts.items():\n",
    "    tot_cnt = tot_cnt + 1\n",
    "    if value < thresh:\n",
    "        cnt = cnt + 1\n",
    "    \n",
    "print(\"% of rare words in vocabulary:\",(cnt / tot_cnt) * 100)\n",
    "\n",
    "# Prepare a tokenizer, again -- by not considering the rare words\n",
    "y_tokenizer = Tokenizer(num_words=tot_cnt-cnt) \n",
    "y_tokenizer.fit_on_texts(list(y_tr))\n",
    "\n",
    "# Convert text sequences to integer sequences \n",
    "y_tr_seq = y_tokenizer.texts_to_sequences(y_tr) \n",
    "y_val_seq = y_tokenizer.texts_to_sequences(y_val) \n",
    "\n",
    "# Pad zero upto maximum length\n",
    "y_tr = pad_sequences(y_tr_seq, maxlen=max_summary_len, padding='post')\n",
    "y_val = pad_sequences(y_val_seq, maxlen=max_summary_len, padding='post')\n",
    "\n",
    "# Size of vocabulary (+1 for padding token)\n",
    "y_voc = y_tokenizer.num_words + 1\n",
    "\n",
    "print(\"Size of vocabulary in Y = {}\".format(y_voc))"
   ]
  },
  {
   "cell_type": "code",
   "execution_count": 48,
   "id": "e0bdb287",
   "metadata": {},
   "outputs": [],
   "source": [
    "# Remove empty Summaries, .i.e, which only have 'START' and 'END' tokens\n",
    "ind = []\n",
    "\n",
    "for i in range(len(y_tr)):\n",
    "    cnt = 0\n",
    "    for j in y_tr[i]:\n",
    "        if j != 0:\n",
    "            cnt = cnt + 1\n",
    "    if cnt == 2:\n",
    "        ind.append(i)\n",
    "\n",
    "y_tr = np.delete(y_tr, ind, axis=0)\n",
    "x_tr = np.delete(x_tr, ind, axis=0)"
   ]
  },
  {
   "cell_type": "code",
   "execution_count": 49,
   "id": "d6cc83e5",
   "metadata": {},
   "outputs": [],
   "source": [
    "# Remove empty Summaries, .i.e, which only have 'START' and 'END' tokens\n",
    "ind = []\n",
    "for i in range(len(y_val)):\n",
    "    cnt = 0\n",
    "    for j in y_val[i]:\n",
    "        if j != 0:\n",
    "            cnt = cnt + 1\n",
    "    if cnt == 2:\n",
    "        ind.append(i)\n",
    "\n",
    "y_val = np.delete(y_val, ind, axis=0)\n",
    "x_val = np.delete(x_val, ind, axis=0)"
   ]
  },
  {
   "cell_type": "code",
   "execution_count": 50,
   "id": "2f64947f",
   "metadata": {},
   "outputs": [],
   "source": [
    "from tensorflow.keras.preprocessing.text import Tokenizer \n",
    "from tensorflow.keras.preprocessing.sequence import pad_sequences\n",
    "from tensorflow.keras.layers import Input, LSTM, Embedding, Dense, Concatenate, TimeDistributed\n",
    "from tensorflow.keras.models import Model\n",
    "from tensorflow.keras.callbacks import EarlyStopping"
   ]
  },
  {
   "cell_type": "code",
   "execution_count": 51,
   "id": "e803e45d",
   "metadata": {},
   "outputs": [
    {
     "name": "stdout",
     "output_type": "stream",
     "text": [
      "Model: \"model\"\n",
      "__________________________________________________________________________________________________\n",
      " Layer (type)                Output Shape                 Param #   Connected to                  \n",
      "==================================================================================================\n",
      " input_1 (InputLayer)        [(None, 1200)]               0         []                            \n",
      "                                                                                                  \n",
      " embedding (Embedding)       (None, 1200, 200)            3103000   ['input_1[0][0]']             \n",
      "                                                          0                                       \n",
      "                                                                                                  \n",
      " lstm (LSTM)                 [(None, 1200, 300),          601200    ['embedding[0][0]']           \n",
      "                              (None, 300),                                                        \n",
      "                              (None, 300)]                                                        \n",
      "                                                                                                  \n",
      " input_2 (InputLayer)        [(None, None)]               0         []                            \n",
      "                                                                                                  \n",
      " lstm_1 (LSTM)               [(None, 1200, 300),          721200    ['lstm[0][0]']                \n",
      "                              (None, 300),                                                        \n",
      "                              (None, 300)]                                                        \n",
      "                                                                                                  \n",
      " embedding_1 (Embedding)     (None, None, 200)            9547600   ['input_2[0][0]']             \n",
      "                                                                                                  \n",
      " lstm_2 (LSTM)               [(None, 1200, 300),          721200    ['lstm_1[0][0]']              \n",
      "                              (None, 300),                                                        \n",
      "                              (None, 300)]                                                        \n",
      "                                                                                                  \n",
      " lstm_3 (LSTM)               [(None, None, 300),          601200    ['embedding_1[0][0]',         \n",
      "                              (None, 300),                           'lstm_2[0][1]',              \n",
      "                              (None, 300)]                           'lstm_2[0][2]']              \n",
      "                                                                                                  \n",
      " time_distributed (TimeDist  (None, None, 47738)          1436913   ['lstm_3[0][0]']              \n",
      " ributed)                                                 8                                       \n",
      "                                                                                                  \n",
      "==================================================================================================\n",
      "Total params: 57591538 (219.69 MB)\n",
      "Trainable params: 57591538 (219.69 MB)\n",
      "Non-trainable params: 0 (0.00 Byte)\n",
      "__________________________________________________________________________________________________\n"
     ]
    }
   ],
   "source": [
    "latent_dim = 300\n",
    "embedding_dim = 200\n",
    "\n",
    "# Encoder\n",
    "encoder_inputs = Input(shape=(max_text_len, ))\n",
    "\n",
    "# Embedding layer\n",
    "enc_emb = Embedding(x_voc, embedding_dim,\n",
    "                    trainable=True)(encoder_inputs)\n",
    "\n",
    "# Encoder LSTM 1\n",
    "encoder_lstm1 = LSTM(latent_dim, return_sequences=True,\n",
    "                     return_state=True, dropout=0.4,\n",
    "                     recurrent_dropout=0.4)\n",
    "(encoder_output1, state_h1, state_c1) = encoder_lstm1(enc_emb)\n",
    "\n",
    "# Encoder LSTM 2\n",
    "encoder_lstm2 = LSTM(latent_dim, return_sequences=True,\n",
    "                     return_state=True, dropout=0.4,\n",
    "                     recurrent_dropout=0.4)\n",
    "(encoder_output2, state_h2, state_c2) = encoder_lstm2(encoder_output1)\n",
    "\n",
    "# Encoder LSTM 3\n",
    "encoder_lstm3 = LSTM(latent_dim, return_state=True,\n",
    "                     return_sequences=True, dropout=0.4,\n",
    "                     recurrent_dropout=0.4)\n",
    "(encoder_outputs, state_h, state_c) = encoder_lstm3(encoder_output2)\n",
    "\n",
    "# Set up the decoder, using encoder_states as the initial state\n",
    "decoder_inputs = Input(shape=(None, ))\n",
    "\n",
    "# Embedding layer\n",
    "dec_emb_layer = Embedding(y_voc, embedding_dim, trainable=True)\n",
    "dec_emb = dec_emb_layer(decoder_inputs)\n",
    "\n",
    "# Decoder LSTM\n",
    "decoder_lstm = LSTM(latent_dim, return_sequences=True,\n",
    "                    return_state=True, dropout=0.4,\n",
    "                    recurrent_dropout=0.2)\n",
    "(decoder_outputs, decoder_fwd_state, decoder_back_state) = \\\n",
    "    decoder_lstm(dec_emb, initial_state=[state_h, state_c])\n",
    "\n",
    "# Dense layer\n",
    "decoder_dense = TimeDistributed(Dense(y_voc, activation='softmax'))\n",
    "decoder_outputs = decoder_dense(decoder_outputs)\n",
    "\n",
    "# Define the model\n",
    "model = Model([encoder_inputs, decoder_inputs], decoder_outputs)\n",
    "\n",
    "model.summary()\n"
   ]
  },
  {
   "cell_type": "code",
   "execution_count": 52,
   "id": "6d65f39e",
   "metadata": {},
   "outputs": [],
   "source": [
    "model.compile(optimizer='rmsprop', loss='sparse_categorical_crossentropy')\n",
    "\n",
    "es = EarlyStopping(monitor='val_loss', mode='min', verbose=1, patience=2)"
   ]
  },
  {
   "cell_type": "code",
   "execution_count": null,
   "id": "b03a9873",
   "metadata": {},
   "outputs": [
    {
     "name": "stdout",
     "output_type": "stream",
     "text": [
      "Epoch 1/50\n"
     ]
    }
   ],
   "source": [
    "history = model.fit(\n",
    "    [x_tr, y_tr[:, :-1]],\n",
    "    y_tr.reshape(y_tr.shape[0], y_tr.shape[1], 1)[:, 1:],\n",
    "    epochs=50,\n",
    "    callbacks=[es],\n",
    "    batch_size=128,\n",
    "    validation_data=([x_val, y_val[:, :-1]],\n",
    "                     y_val.reshape(y_val.shape[0], y_val.shape[1], 1)[:\n",
    "                     , 1:]),\n",
    "    )"
   ]
  },
  {
   "cell_type": "code",
   "execution_count": null,
   "id": "9d5f2c73",
   "metadata": {},
   "outputs": [],
   "source": []
  }
 ],
 "metadata": {
  "kernelspec": {
   "display_name": "Python 3 (ipykernel)",
   "language": "python",
   "name": "python3"
  },
  "language_info": {
   "codemirror_mode": {
    "name": "ipython",
    "version": 3
   },
   "file_extension": ".py",
   "mimetype": "text/x-python",
   "name": "python",
   "nbconvert_exporter": "python",
   "pygments_lexer": "ipython3",
   "version": "3.11.4"
  }
 },
 "nbformat": 4,
 "nbformat_minor": 5
}
